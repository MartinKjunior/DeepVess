{
 "cells": [
  {
   "cell_type": "code",
   "execution_count": 44,
   "metadata": {},
   "outputs": [],
   "source": [
    "import matlab.engine\n",
    "from pathlib import Path"
   ]
  },
  {
   "cell_type": "code",
   "execution_count": 45,
   "metadata": {},
   "outputs": [],
   "source": [
    "def move_up(path: Path, search: str):\n",
    "    \"\"\"\n",
    "    Move up the directory tree until the search string is found in the directory name\n",
    "    \"\"\"\n",
    "    while search not in path.name:\n",
    "        path = path.parent\n",
    "        if path == Path(\"/\"):\n",
    "            print(f\"Could not find {search} directory\")\n",
    "            return None\n",
    "    return path"
   ]
  },
  {
   "cell_type": "code",
   "execution_count": 54,
   "metadata": {},
   "outputs": [],
   "source": [
    "p = Path.cwd()\n",
    "study_path = move_up(p, \"Mouse_Study\")\n",
    "data_paths = study_path.glob(\"Mouse*/3DVesselSegmentation/*/*.tif\")"
   ]
  },
  {
   "cell_type": "code",
   "execution_count": 53,
   "metadata": {},
   "outputs": [],
   "source": [
    "eng = matlab.engine.start_matlab()\n",
    "eng.addpath(eng.genpath(str(study_path)))\n",
    "for file_path in data_paths:\n",
    "    eng.prepareImage(\n",
    "        1, \n",
    "        0, \n",
    "        1, \n",
    "        1, \n",
    "        str(file_path.parent), \n",
    "        str(file_path.name), \n",
    "        nargout=0\n",
    "        )\n",
    "eng.quit()"
   ]
  }
 ],
 "metadata": {
  "kernelspec": {
   "display_name": "DeepVess",
   "language": "python",
   "name": "python3"
  },
  "language_info": {
   "codemirror_mode": {
    "name": "ipython",
    "version": 3
   },
   "file_extension": ".py",
   "mimetype": "text/x-python",
   "name": "python",
   "nbconvert_exporter": "python",
   "pygments_lexer": "ipython3",
   "version": "3.10.13"
  }
 },
 "nbformat": 4,
 "nbformat_minor": 2
}
